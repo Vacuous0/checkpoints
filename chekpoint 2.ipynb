{
 "cells": [
  {
   "cell_type": "code",
   "execution_count": 1,
   "id": "8ac30836",
   "metadata": {},
   "outputs": [],
   "source": [
    "#EXERCICE 1 "
   ]
  },
  {
   "cell_type": "code",
   "execution_count": 3,
   "id": "5d34bd62",
   "metadata": {},
   "outputs": [
    {
     "name": "stdout",
     "output_type": "stream",
     "text": [
      "2002\n",
      "2009\n",
      "2016\n",
      "2023\n",
      "2037\n",
      "2044\n",
      "2051\n",
      "2058\n",
      "2072\n",
      "2079\n",
      "2086\n",
      "2093\n",
      "2107\n",
      "2114\n",
      "2121\n",
      "2128\n",
      "2142\n",
      "2149\n",
      "2156\n",
      "2163\n",
      "2177\n",
      "2184\n",
      "2191\n",
      "2198\n",
      "2212\n",
      "2219\n",
      "2226\n",
      "2233\n",
      "2247\n",
      "2254\n",
      "2261\n",
      "2268\n",
      "2282\n",
      "2289\n",
      "2296\n",
      "2303\n",
      "2317\n",
      "2324\n",
      "2331\n",
      "2338\n",
      "2352\n",
      "2359\n",
      "2366\n",
      "2373\n",
      "2387\n",
      "2394\n",
      "2401\n",
      "2408\n",
      "2422\n",
      "2429\n",
      "2436\n",
      "2443\n",
      "2457\n",
      "2464\n",
      "2471\n",
      "2478\n",
      "2492\n",
      "2499\n",
      "2506\n",
      "2513\n",
      "2527\n",
      "2534\n",
      "2541\n",
      "2548\n",
      "2562\n",
      "2569\n",
      "2576\n",
      "2583\n",
      "2597\n",
      "2604\n",
      "2611\n",
      "2618\n",
      "2632\n",
      "2639\n",
      "2646\n",
      "2653\n",
      "2667\n",
      "2674\n",
      "2681\n",
      "2688\n",
      "2702\n",
      "2709\n",
      "2716\n",
      "2723\n",
      "2737\n",
      "2744\n",
      "2751\n",
      "2758\n",
      "2772\n",
      "2779\n",
      "2786\n",
      "2793\n",
      "2807\n",
      "2814\n",
      "2821\n",
      "2828\n",
      "2842\n",
      "2849\n",
      "2856\n",
      "2863\n",
      "2877\n",
      "2884\n",
      "2891\n",
      "2898\n",
      "2912\n",
      "2919\n",
      "2926\n",
      "2933\n",
      "2947\n",
      "2954\n",
      "2961\n",
      "2968\n",
      "2982\n",
      "2989\n",
      "2996\n"
     ]
    }
   ],
   "source": [
    "for i in range (2000,3001):\n",
    "    if i%7==0 and i%5!=0:\n",
    "        print (i)"
   ]
  },
  {
   "cell_type": "code",
   "execution_count": 26,
   "id": "88f85c17",
   "metadata": {},
   "outputs": [],
   "source": [
    "#EXERCICE 2"
   ]
  },
  {
   "cell_type": "code",
   "execution_count": 27,
   "id": "6e4bc267",
   "metadata": {},
   "outputs": [],
   "source": [
    "def factorial(x):\n",
    "    f=1\n",
    "    for i in range(1,x+1):\n",
    "        f=f*i\n",
    "        \n",
    "    return f"
   ]
  },
  {
   "cell_type": "code",
   "execution_count": 28,
   "id": "94d36777",
   "metadata": {},
   "outputs": [
    {
     "data": {
      "text/plain": [
       "120"
      ]
     },
     "execution_count": 28,
     "metadata": {},
     "output_type": "execute_result"
    }
   ],
   "source": [
    "factorial(5)"
   ]
  },
  {
   "cell_type": "code",
   "execution_count": 29,
   "id": "7ca97a97",
   "metadata": {},
   "outputs": [
    {
     "data": {
      "text/plain": [
       "3628800"
      ]
     },
     "execution_count": 29,
     "metadata": {},
     "output_type": "execute_result"
    }
   ],
   "source": [
    "factorial(10)"
   ]
  },
  {
   "cell_type": "code",
   "execution_count": 39,
   "id": "7ae97e4f",
   "metadata": {},
   "outputs": [],
   "source": [
    "#EXERCICE 3"
   ]
  },
  {
   "cell_type": "code",
   "execution_count": 2,
   "id": "9a2285aa",
   "metadata": {},
   "outputs": [
    {
     "name": "stdout",
     "output_type": "stream",
     "text": [
      "Type a number: 7\n",
      "{1: 1, 2: 4, 3: 9, 4: 16, 5: 25, 6: 36, 7: 49}\n"
     ]
    }
   ],
   "source": [
    "number = int(input(\"Type a number: \"))\n",
    "\n",
    "dico = {}\n",
    "for i in range(1, number+1):\n",
    "    dico[i] = i*i\n",
    "\n",
    "print(dico)"
   ]
  },
  {
   "cell_type": "code",
   "execution_count": 4,
   "id": "9fd62a7c",
   "metadata": {},
   "outputs": [],
   "source": [
    "#EXERCICE 4"
   ]
  },
  {
   "cell_type": "code",
   "execution_count": 1,
   "id": "5d283952",
   "metadata": {},
   "outputs": [],
   "source": [
    "def removechar(str,n):\n",
    "    part1=str[:n]\n",
    "    part2=str[n+1]\n",
    "    return part1+part2"
   ]
  },
  {
   "cell_type": "code",
   "execution_count": 3,
   "id": "9385b710",
   "metadata": {},
   "outputs": [
    {
     "data": {
      "text/plain": [
       "'gomycd'"
      ]
     },
     "execution_count": 3,
     "metadata": {},
     "output_type": "execute_result"
    }
   ],
   "source": [
    "removechar(\"gomycode\",5)"
   ]
  },
  {
   "cell_type": "code",
   "execution_count": 4,
   "id": "8ad2a78a",
   "metadata": {},
   "outputs": [],
   "source": [
    "#EXERCICE 5"
   ]
  },
  {
   "cell_type": "code",
   "execution_count": 5,
   "id": "3ff3fe86",
   "metadata": {},
   "outputs": [],
   "source": [
    "import numpy as np"
   ]
  },
  {
   "cell_type": "code",
   "execution_count": 10,
   "id": "a12baf6c",
   "metadata": {},
   "outputs": [],
   "source": [
    "arr= np.arange(10).reshape(5, 2)"
   ]
  },
  {
   "cell_type": "code",
   "execution_count": 11,
   "id": "fef71fce",
   "metadata": {},
   "outputs": [
    {
     "name": "stdout",
     "output_type": "stream",
     "text": [
      "[[0 1]\n",
      " [2 3]\n",
      " [4 5]\n",
      " [6 7]\n",
      " [8 9]]\n"
     ]
    }
   ],
   "source": [
    "print(arr)"
   ]
  },
  {
   "cell_type": "code",
   "execution_count": 12,
   "id": "692b6856",
   "metadata": {},
   "outputs": [
    {
     "data": {
      "text/plain": [
       "[[0, 1], [2, 3], [4, 5], [6, 7], [8, 9]]"
      ]
     },
     "execution_count": 12,
     "metadata": {},
     "output_type": "execute_result"
    }
   ],
   "source": [
    "(arr.tolist())"
   ]
  },
  {
   "cell_type": "code",
   "execution_count": 13,
   "id": "fbb957b8",
   "metadata": {},
   "outputs": [],
   "source": [
    "#EXERCICE 6"
   ]
  },
  {
   "cell_type": "code",
   "execution_count": 20,
   "id": "0f304a8b",
   "metadata": {},
   "outputs": [],
   "source": [
    "A = np.array([0, 1, 2])"
   ]
  },
  {
   "cell_type": "code",
   "execution_count": 21,
   "id": "08541445",
   "metadata": {},
   "outputs": [
    {
     "name": "stdout",
     "output_type": "stream",
     "text": [
      "[0 1 2]\n"
     ]
    }
   ],
   "source": [
    "print(A)"
   ]
  },
  {
   "cell_type": "code",
   "execution_count": 22,
   "id": "01f06366",
   "metadata": {},
   "outputs": [],
   "source": [
    "B = np.array([2, 1 , 0])"
   ]
  },
  {
   "cell_type": "code",
   "execution_count": 23,
   "id": "ce13a14f",
   "metadata": {},
   "outputs": [
    {
     "name": "stdout",
     "output_type": "stream",
     "text": [
      "[2 1 0]\n"
     ]
    }
   ],
   "source": [
    "print(B)"
   ]
  },
  {
   "cell_type": "code",
   "execution_count": 24,
   "id": "5c9aa3f4",
   "metadata": {},
   "outputs": [
    {
     "name": "stdout",
     "output_type": "stream",
     "text": [
      "[[ 1. -1.]\n",
      " [-1.  1.]]\n"
     ]
    }
   ],
   "source": [
    "print(np.cov(A, B))"
   ]
  },
  {
   "cell_type": "code",
   "execution_count": 25,
   "id": "470dc601",
   "metadata": {},
   "outputs": [],
   "source": [
    "#EXERCICE 7"
   ]
  },
  {
   "cell_type": "code",
   "execution_count": 28,
   "id": "67989e4d",
   "metadata": {},
   "outputs": [
    {
     "name": "stdout",
     "output_type": "stream",
     "text": [
      "numbers:8\n",
      "5\n"
     ]
    }
   ],
   "source": [
    "def Q(d):\n",
    "    c = 50\n",
    "    h = 30\n",
    "    result = ((1.0)*(2 * c * d)/h)**(0.5)\n",
    "    return str(int(result))\n",
    "\n",
    "input_nums = input(\"numbers:\")\n",
    "result = []\n",
    "for num in input_nums.split(','):\n",
    "    int_num = int(num)\n",
    "    temp = Q(int_num)\n",
    "    result.append(temp)\n",
    "\n",
    "print(','.join(result))"
   ]
  },
  {
   "cell_type": "code",
   "execution_count": null,
   "id": "6035367f",
   "metadata": {},
   "outputs": [],
   "source": []
  }
 ],
 "metadata": {
  "kernelspec": {
   "display_name": "Python 3",
   "language": "python",
   "name": "python3"
  },
  "language_info": {
   "codemirror_mode": {
    "name": "ipython",
    "version": 3
   },
   "file_extension": ".py",
   "mimetype": "text/x-python",
   "name": "python",
   "nbconvert_exporter": "python",
   "pygments_lexer": "ipython3",
   "version": "3.8.8"
  }
 },
 "nbformat": 4,
 "nbformat_minor": 5
}
